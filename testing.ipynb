{
 "cells": [
  {
   "cell_type": "code",
   "execution_count": 26,
   "id": "969ce954",
   "metadata": {},
   "outputs": [
    {
     "data": {
      "text/plain": [
       "True"
      ]
     },
     "execution_count": 26,
     "metadata": {},
     "output_type": "execute_result"
    }
   ],
   "source": [
    "import os\n",
    "from dotenv import load_dotenv\n",
    "load_dotenv()\n"
   ]
  },
  {
   "cell_type": "code",
   "execution_count": 7,
   "id": "a53bb446",
   "metadata": {},
   "outputs": [],
   "source": [
    "LANGCHAIN_API_KEY = os.getenv(\"LANGCHAIN_API_KEY\")"
   ]
  },
  {
   "cell_type": "code",
   "execution_count": 8,
   "id": "b7dd199c",
   "metadata": {},
   "outputs": [],
   "source": [
    "groq_api_key = os.getenv(\"GROQ_API_KEY\")"
   ]
  },
  {
   "cell_type": "code",
   "execution_count": 9,
   "id": "eb1cf6c9",
   "metadata": {},
   "outputs": [
    {
     "data": {
      "text/plain": [
       "'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'"
      ]
     },
     "execution_count": 9,
     "metadata": {},
     "output_type": "execute_result"
    }
   ],
   "source": [
    "groq_api_key "
   ]
  },
  {
   "cell_type": "code",
   "execution_count": 11,
   "id": "fd7c605f",
   "metadata": {},
   "outputs": [],
   "source": [
    "from langchain_groq import ChatGroq"
   ]
  },
  {
   "cell_type": "code",
   "execution_count": 12,
   "id": "afbce400",
   "metadata": {},
   "outputs": [],
   "source": [
    "model = ChatGroq(model=\"Gemma2-9b-It\" , groq_api_key=\"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\")"
   ]
  },
  {
   "cell_type": "code",
   "execution_count": 13,
   "id": "e2893ea6",
   "metadata": {},
   "outputs": [
    {
     "data": {
      "text/plain": [
       "ChatGroq(client=<groq.resources.chat.completions.Completions object at 0x000001F909315010>, async_client=<groq.resources.chat.completions.AsyncCompletions object at 0x000001F9096449D0>, model_name='Gemma2-9b-It', model_kwargs={}, groq_api_key=SecretStr('**********'))"
      ]
     },
     "execution_count": 13,
     "metadata": {},
     "output_type": "execute_result"
    }
   ],
   "source": [
    "model"
   ]
  },
  {
   "cell_type": "code",
   "execution_count": 14,
   "id": "f787a52b",
   "metadata": {},
   "outputs": [
    {
     "data": {
      "text/plain": [
       "AIMessage(content='Hello! 👋\\n\\nHow can I help you today? 😊\\n', additional_kwargs={}, response_metadata={'token_usage': {'completion_tokens': 15, 'prompt_tokens': 11, 'total_tokens': 26, 'completion_time': 0.027272727, 'prompt_time': 0.001917227, 'queue_time': 0.245774173, 'total_time': 0.029189954}, 'model_name': 'Gemma2-9b-It', 'system_fingerprint': 'fp_10c08bf97d', 'finish_reason': 'stop', 'logprobs': None}, id='run--904a70ed-4020-42e7-8cda-98483eaad396-0', usage_metadata={'input_tokens': 11, 'output_tokens': 15, 'total_tokens': 26})"
      ]
     },
     "execution_count": 14,
     "metadata": {},
     "output_type": "execute_result"
    }
   ],
   "source": [
    "model.invoke(\"hello model\")"
   ]
  },
  {
   "cell_type": "code",
   "execution_count": 15,
   "id": "547dbedc",
   "metadata": {},
   "outputs": [
    {
     "data": {
      "text/plain": [
       "AIMessage(content=\"Machine learning is a type of artificial intelligence (AI) that allows computer systems to learn from data without being explicitly programmed. \\n\\nHere's a breakdown:\\n\\n**Key Concepts:**\\n\\n* **Data:** Machine learning algorithms are fueled by data. The more data they have, the better they learn.\\n* **Algorithms:** These are sets of instructions that the computer follows to process the data and find patterns.\\n* **Training:**  The process of feeding data into the algorithm so it can learn.\\n\\n**How it Works:**\\n\\n1. **Data Collection:** Gather relevant data for the task you want the machine to learn.\\n2. **Data Preparation:** Clean, organize, and transform the data into a format the algorithm can understand.\\n3. **Algorithm Selection:** Choose an appropriate algorithm based on the type of task (e.g., classification, regression, clustering).\\n4. **Training:** Feed the prepared data into the algorithm. The algorithm adjusts its internal parameters to minimize errors and improve its performance.\\n5. **Evaluation:** Test the trained model on new, unseen data to assess its accuracy and generalization ability.\\n6. **Deployment:** Use the trained model to make predictions or decisions on real-world data.\\n\\n**Types of Machine Learning:**\\n\\n* **Supervised Learning:** The algorithm is trained on labeled data (input-output pairs). Examples: image classification, spam detection.\\n* **Unsupervised Learning:** The algorithm is trained on unlabeled data and must find patterns and structures on its own. Examples: customer segmentation, anomaly detection.\\n* **Reinforcement Learning:** The algorithm learns by interacting with an environment and receiving rewards or penalties for its actions. Examples: game playing, robotics.\\n\\n**Applications:**\\n\\nMachine learning is used in a wide range of applications, including:\\n\\n* **Image recognition and computer vision**\\n* **Natural language processing (NLP)**\\n* **Recommendation systems**\\n* **Fraud detection**\\n* **Medical diagnosis**\\n* **Self-driving cars**\\n\\n**In essence, machine learning enables computers to learn from experience, identify patterns, and make predictions, ultimately automating tasks and improving decision-making.**\\n\", additional_kwargs={}, response_metadata={'token_usage': {'completion_tokens': 446, 'prompt_tokens': 13, 'total_tokens': 459, 'completion_time': 0.810909091, 'prompt_time': 0.002054776, 'queue_time': 0.24670531399999998, 'total_time': 0.812963867}, 'model_name': 'Gemma2-9b-It', 'system_fingerprint': 'fp_10c08bf97d', 'finish_reason': 'stop', 'logprobs': None}, id='run--ec148446-caa6-460e-b5f6-5edd1f79a6f0-0', usage_metadata={'input_tokens': 13, 'output_tokens': 446, 'total_tokens': 459})"
      ]
     },
     "execution_count": 15,
     "metadata": {},
     "output_type": "execute_result"
    }
   ],
   "source": [
    "model.invoke(\"what is machine learning\")"
   ]
  },
  {
   "cell_type": "code",
   "execution_count": 16,
   "id": "3aaee746",
   "metadata": {},
   "outputs": [],
   "source": [
    "from langchain_core.prompts import ChatPromptTemplate"
   ]
  },
  {
   "cell_type": "code",
   "execution_count": 17,
   "id": "d130841f",
   "metadata": {},
   "outputs": [],
   "source": [
    "prompt = ChatPromptTemplate(\n",
    "    [\n",
    "        (\"system\" , \"you are a standup comdeian, generate a joke on the given topic\"),\n",
    "        (\"user\" , \"{topic}\")\n",
    "    ]\n",
    ")"
   ]
  },
  {
   "cell_type": "code",
   "execution_count": 18,
   "id": "cf7e6d5e",
   "metadata": {},
   "outputs": [
    {
     "data": {
      "text/plain": [
       "ChatPromptValue(messages=[SystemMessage(content='you are a standup comdeian, generate a joke on the given topic', additional_kwargs={}, response_metadata={}), HumanMessage(content='content=\"That\\'s a broad term! To help me understand what you\\'re interested in, could you tell me more about what you want to know about computers? \\\\n\\\\nFor example, are you curious about:\\\\n\\\\n* **How computers work?** (e.g., hardware, software, processing)\\\\n* **Different types of computers?** (e.g., desktops, laptops, smartphones, servers)\\\\n* **What computers can do?** (e.g., gaming, work, communication, entertainment)\\\\n* **The history of computers?**\\\\n* **The future of computers?**\\\\n* **Something else entirely?**\\\\n\\\\n\\\\nThe more specific you are, the better I can help! 😊\\\\n\\\\n\" additional_kwargs={} response_metadata={\\'token_usage\\': {\\'completion_tokens\\': 149, \\'prompt_tokens\\': 11, \\'total_tokens\\': 160, \\'completion_time\\': 0.270909091, \\'prompt_time\\': 0.001911586, \\'queue_time\\': 0.24796347400000002, \\'total_time\\': 0.272820677}, \\'model_name\\': \\'Gemma2-9b-It\\', \\'system_fingerprint\\': \\'fp_10c08bf97d\\', \\'finish_reason\\': \\'stop\\', \\'logprobs\\': None} id=\\'run--6043c78d-de63-4084-965e-fae6e582e766-0\\' usage_metadata={\\'input_tokens\\': 11, \\'output_tokens\\': 149, \\'total_tokens\\': 160}', additional_kwargs={}, response_metadata={})])"
      ]
     },
     "execution_count": 18,
     "metadata": {},
     "output_type": "execute_result"
    }
   ],
   "source": [
    "prompt.invoke(model.invoke(\"computer\"))"
   ]
  },
  {
   "cell_type": "code",
   "execution_count": 19,
   "id": "dd911c1f",
   "metadata": {},
   "outputs": [],
   "source": [
    "from langchain_core.output_parsers import StrOutputParser"
   ]
  },
  {
   "cell_type": "code",
   "execution_count": 20,
   "id": "b25c8eac",
   "metadata": {},
   "outputs": [],
   "source": [
    "output_parser = StrOutputParser()"
   ]
  },
  {
   "cell_type": "code",
   "execution_count": 21,
   "id": "2b1f85c2",
   "metadata": {},
   "outputs": [],
   "source": [
    "chain = prompt|model|output_parser"
   ]
  },
  {
   "cell_type": "code",
   "execution_count": 22,
   "id": "8a9db663",
   "metadata": {},
   "outputs": [
    {
     "data": {
      "text/plain": [
       "'You know, I was reading about this new AI that can write jokes.  I asked it to write one about machine learning, and it said, \"Why did the algorithm get lost? Because it couldn\\'t see the forest for the data!\" \\n\\n...I guess that\\'s one way to say it\\'s overthinking things.  Like, come on, buddy, just take a left at the tree!  \\n\\n\\n\\n'"
      ]
     },
     "execution_count": 22,
     "metadata": {},
     "output_type": "execute_result"
    }
   ],
   "source": [
    "chain.invoke(\"machine learning\")"
   ]
  },
  {
   "cell_type": "code",
   "execution_count": 24,
   "id": "c85ff0e5",
   "metadata": {},
   "outputs": [
    {
     "data": {
      "text/plain": [
       "\"Please provide me with a topic! I'm ready to riff.  🎤  😄  \\n\\n\""
      ]
     },
     "execution_count": 24,
     "metadata": {},
     "output_type": "execute_result"
    }
   ],
   "source": [
    "topic = input()\n",
    "chain.invoke({\"topic\":topic})"
   ]
  }
 ],
 "metadata": {
  "kernelspec": {
   "display_name": "venv",
   "language": "python",
   "name": "python3"
  },
  "language_info": {
   "codemirror_mode": {
    "name": "ipython",
    "version": 3
   },
   "file_extension": ".py",
   "mimetype": "text/x-python",
   "name": "python",
   "nbconvert_exporter": "python",
   "pygments_lexer": "ipython3",
   "version": "3.11.8"
  }
 },
 "nbformat": 4,
 "nbformat_minor": 5
}
